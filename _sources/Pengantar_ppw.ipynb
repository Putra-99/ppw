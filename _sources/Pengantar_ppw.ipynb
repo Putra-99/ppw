{
  "nbformat": 4,
  "nbformat_minor": 0,
  "metadata": {
    "colab": {
      "provenance": []
    },
    "kernelspec": {
      "name": "python3",
      "display_name": "Python 3"
    },
    "language_info": {
      "name": "python"
    }
  },
  "cells": [
    {
      "cell_type": "markdown",
      "source": [
        "# Pengantar Pencarian dan Penambangan Web"
      ],
      "metadata": {
        "id": "NOjXau2mV5HQ"
      }
    },
    {
      "cell_type": "markdown",
      "source": [
        "Web Mining merupakan proses penemuan pola dan informasi berharga dari data yang terdapat di internet. Konsep ini diperkenalkan pertama kali oleh Oren Etzioni (1996) dan bertujuan mengekstraksi pengetahuan yang tersembunyi dalam data web yang umumnya bersifat heterogen, semi-terstruktur, hingga tidak terstruktur. Meskipun berakar dari teknik data mining, Web Mining berbeda karena sumber datanya tersebar di berbagai situs, bukan dalam bentuk data warehouse tradisional.\n",
        "\n",
        "\n",
        "\n",
        "Secara umum, Web Mining terbagi menjadi tiga kategori utama:\n",
        "\n",
        "\n",
        "\n",
        "\n",
        "1.   Web Structure Mining Fokus pada analisis struktur hyperlink antar halaman web. Dari pola hubungan ini dapat diketahui halaman penting, komunitas daring, serta alur navigasi web. Teknologi ini banyak dimanfaatkan mesin pencari untuk menentukan relevansi halaman.\n",
        "2.   Web Content Mining Menekankan pada penggalian informasi dari konten sebuah web, seperti teks, gambar, video, metadata, maupun hyperlink. Teknik ini memungkinkan klasifikasi otomatis halaman, ekstraksi data produk, analisis opini konsumen, hingga analisis sentimen terhadap ulasan pengguna. Aplikasi utamanya mencakup pengembangan sistem rekomendasi, pemantauan reputasi, serta optimasi strategi pemasaran seperti dropshipping.\n",
        "\n",
        "\n",
        "3.   Web Usage Mining Berhubungan dengan penemuan pola akses pengguna melalui data log, clickstream, maupun cookies. Hasil analisis dapat dimanfaatkan untuk personalisasi tampilan web, memahami perilaku konsumen, dan menentukan target pasar. Tantangan utama terletak pada tahap preprocessing agar data benar-benar siap untuk ditambang.\n",
        "\n",
        "---\n",
        "\n"
      ],
      "metadata": {
        "id": "GN14B0HyV8Vh"
      }
    },
    {
      "cell_type": "markdown",
      "source": [
        "# Penerapan Web Mining"
      ],
      "metadata": {
        "id": "58Cv9vOcWW70"
      }
    },
    {
      "cell_type": "markdown",
      "source": [
        "Web Mining banyak digunakan pada berbagai bidang, antara lain:\n",
        "\n",
        "* Meningkatkan performa mesin pencari dengan mengklasifikasikan dan mengelompokkan dokumen web.\n",
        "\n",
        "* Prediksi perilaku pengguna untuk personalisasi layanan.\n",
        "\n",
        "* Optimalisasi strategi bisnis, misalnya pada e-commerce, pengaturan halaman arahan, hingga pemantauan opini publik.\n",
        "\n",
        "* Mendukung riset ilmiah, khususnya dalam analisis teks, opini, dan tren sosial.\n",
        "---"
      ],
      "metadata": {
        "id": "OqPwlcPkXR-E"
      }
    },
    {
      "cell_type": "markdown",
      "source": [
        "# Kesimpulan"
      ],
      "metadata": {
        "id": "1DFVoYP8XYZi"
      }
    },
    {
      "cell_type": "markdown",
      "source": [
        "* https://sis.binus.ac.id/2021/08/04/apa-itu-web-mining/\n",
        "\n",
        "* https://mulaab.github.io/webmining/memahami/"
      ],
      "metadata": {
        "id": "jRh_KQOuXyod"
      }
    }
  ]
}